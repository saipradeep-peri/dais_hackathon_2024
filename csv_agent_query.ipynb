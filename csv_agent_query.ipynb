{
 "cells": [
  {
   "cell_type": "code",
   "execution_count": 0,
   "metadata": {
    "application/vnd.databricks.v1+cell": {
     "cellMetadata": {
      "byteLimit": 2048000,
      "rowLimit": 10000
     },
     "inputWidgets": {},
     "nuid": "a01c2745-704a-4d0d-9848-d11ab81b669a",
     "showTitle": false,
     "title": ""
    }
   },
   "outputs": [
    {
     "output_type": "stream",
     "name": "stdout",
     "output_type": "stream",
     "text": [
      "\u001B[43mNote: you may need to restart the kernel using %restart_python or dbutils.library.restartPython() to use updated packages.\u001B[0m\nRequirement already satisfied: langchain==0.2.2 in /local_disk0/.ephemeral_nfs/envs/pythonEnv-6ece25cf-a2bf-4052-9524-0a249d772210/lib/python3.10/site-packages (from -r requirements.txt (line 1)) (0.2.2)\nRequirement already satisfied: langchain-core==0.2.4 in /local_disk0/.ephemeral_nfs/envs/pythonEnv-6ece25cf-a2bf-4052-9524-0a249d772210/lib/python3.10/site-packages (from -r requirements.txt (line 2)) (0.2.4)\nRequirement already satisfied: langchain-community==0.2.2 in /local_disk0/.ephemeral_nfs/envs/pythonEnv-6ece25cf-a2bf-4052-9524-0a249d772210/lib/python3.10/site-packages (from -r requirements.txt (line 3)) (0.2.2)\nCollecting langchain-experimental==0.0.60\n  Downloading langchain_experimental-0.0.60-py3-none-any.whl (199 kB)\n     ━━━━━━━━━━━━━━━━━━━━━━━━━━━━━━━━━━━━━━━ 199.7/199.7 kB 4.9 MB/s eta 0:00:00\nRequirement already satisfied: langgraph==0.0.62 in /local_disk0/.ephemeral_nfs/envs/pythonEnv-6ece25cf-a2bf-4052-9524-0a249d772210/lib/python3.10/site-packages (from -r requirements.txt (line 5)) (0.0.62)\nRequirement already satisfied: langchain-openai==0.1.7 in /local_disk0/.ephemeral_nfs/envs/pythonEnv-6ece25cf-a2bf-4052-9524-0a249d772210/lib/python3.10/site-packages (from -r requirements.txt (line 6)) (0.1.7)\nRequirement already satisfied: openai in /local_disk0/.ephemeral_nfs/envs/pythonEnv-6ece25cf-a2bf-4052-9524-0a249d772210/lib/python3.10/site-packages (from -r requirements.txt (line 7)) (1.33.0)\nRequirement already satisfied: mlflow in /local_disk0/.ephemeral_nfs/envs/pythonEnv-6ece25cf-a2bf-4052-9524-0a249d772210/lib/python3.10/site-packages (from -r requirements.txt (line 8)) (2.13.2)\nRequirement already satisfied: pandas in /databricks/python3/lib/python3.10/site-packages (from -r requirements.txt (line 9)) (1.5.3)\nRequirement already satisfied: numpy in /databricks/python3/lib/python3.10/site-packages (from -r requirements.txt (line 10)) (1.23.5)\nRequirement already satisfied: requests<3,>=2 in /databricks/python3/lib/python3.10/site-packages (from langchain==0.2.2->-r requirements.txt (line 1)) (2.28.1)\nRequirement already satisfied: langsmith<0.2.0,>=0.1.17 in /local_disk0/.ephemeral_nfs/envs/pythonEnv-6ece25cf-a2bf-4052-9524-0a249d772210/lib/python3.10/site-packages (from langchain==0.2.2->-r requirements.txt (line 1)) (0.1.75)\nRequirement already satisfied: PyYAML>=5.3 in /local_disk0/.ephemeral_nfs/envs/pythonEnv-6ece25cf-a2bf-4052-9524-0a249d772210/lib/python3.10/site-packages (from langchain==0.2.2->-r requirements.txt (line 1)) (6.0.1)\nRequirement already satisfied: SQLAlchemy<3,>=1.4 in /local_disk0/.ephemeral_nfs/envs/pythonEnv-6ece25cf-a2bf-4052-9524-0a249d772210/lib/python3.10/site-packages (from langchain==0.2.2->-r requirements.txt (line 1)) (2.0.30)\nRequirement already satisfied: pydantic<3,>=1 in /databricks/python3/lib/python3.10/site-packages (from langchain==0.2.2->-r requirements.txt (line 1)) (1.10.6)\nRequirement already satisfied: aiohttp<4.0.0,>=3.8.3 in /local_disk0/.ephemeral_nfs/envs/pythonEnv-6ece25cf-a2bf-4052-9524-0a249d772210/lib/python3.10/site-packages (from langchain==0.2.2->-r requirements.txt (line 1)) (3.9.5)\nRequirement already satisfied: async-timeout<5.0.0,>=4.0.0 in /local_disk0/.ephemeral_nfs/envs/pythonEnv-6ece25cf-a2bf-4052-9524-0a249d772210/lib/python3.10/site-packages (from langchain==0.2.2->-r requirements.txt (line 1)) (4.0.3)\nRequirement already satisfied: langchain-text-splitters<0.3.0,>=0.2.0 in /local_disk0/.ephemeral_nfs/envs/pythonEnv-6ece25cf-a2bf-4052-9524-0a249d772210/lib/python3.10/site-packages (from langchain==0.2.2->-r requirements.txt (line 1)) (0.2.1)\nRequirement already satisfied: tenacity<9.0.0,>=8.1.0 in /databricks/python3/lib/python3.10/site-packages (from langchain==0.2.2->-r requirements.txt (line 1)) (8.1.0)\nRequirement already satisfied: jsonpatch<2.0,>=1.33 in /local_disk0/.ephemeral_nfs/envs/pythonEnv-6ece25cf-a2bf-4052-9524-0a249d772210/lib/python3.10/site-packages (from langchain-core==0.2.4->-r requirements.txt (line 2)) (1.33)\nRequirement already satisfied: packaging<24.0,>=23.2 in /databricks/python3/lib/python3.10/site-packages (from langchain-core==0.2.4->-r requirements.txt (line 2)) (23.2)\nRequirement already satisfied: dataclasses-json<0.7,>=0.5.7 in /local_disk0/.ephemeral_nfs/envs/pythonEnv-6ece25cf-a2bf-4052-9524-0a249d772210/lib/python3.10/site-packages (from langchain-community==0.2.2->-r requirements.txt (line 3)) (0.6.7)\nRequirement already satisfied: tiktoken<1,>=0.7 in /local_disk0/.ephemeral_nfs/envs/pythonEnv-6ece25cf-a2bf-4052-9524-0a249d772210/lib/python3.10/site-packages (from langchain-openai==0.1.7->-r requirements.txt (line 6)) (0.7.0)\nRequirement already satisfied: anyio<5,>=3.5.0 in /databricks/python3/lib/python3.10/site-packages (from openai->-r requirements.txt (line 7)) (3.5.0)\nRequirement already satisfied: distro<2,>=1.7.0 in /usr/lib/python3/dist-packages (from openai->-r requirements.txt (line 7)) (1.7.0)\nRequirement already satisfied: tqdm>4 in /local_disk0/.ephemeral_nfs/envs/pythonEnv-6ece25cf-a2bf-4052-9524-0a249d772210/lib/python3.10/site-packages (from openai->-r requirements.txt (line 7)) (4.66.4)\nRequirement already satisfied: typing-extensions<5,>=4.7 in /local_disk0/.ephemeral_nfs/envs/pythonEnv-6ece25cf-a2bf-4052-9524-0a249d772210/lib/python3.10/site-packages (from openai->-r requirements.txt (line 7)) (4.12.2)\nRequirement already satisfied: httpx<1,>=0.23.0 in /local_disk0/.ephemeral_nfs/envs/pythonEnv-6ece25cf-a2bf-4052-9524-0a249d772210/lib/python3.10/site-packages (from openai->-r requirements.txt (line 7)) (0.27.0)\nRequirement already satisfied: sniffio in /databricks/python3/lib/python3.10/site-packages (from openai->-r requirements.txt (line 7)) (1.2.0)\nRequirement already satisfied: cachetools<6,>=5.0.0 in /databricks/python3/lib/python3.10/site-packages (from mlflow->-r requirements.txt (line 8)) (5.3.2)\nRequirement already satisfied: alembic!=1.10.0,<2 in /local_disk0/.ephemeral_nfs/envs/pythonEnv-6ece25cf-a2bf-4052-9524-0a249d772210/lib/python3.10/site-packages (from mlflow->-r requirements.txt (line 8)) (1.13.1)\nRequirement already satisfied: entrypoints<1 in /databricks/python3/lib/python3.10/site-packages (from mlflow->-r requirements.txt (line 8)) (0.4)\nRequirement already satisfied: matplotlib<4 in /databricks/python3/lib/python3.10/site-packages (from mlflow->-r requirements.txt (line 8)) (3.7.0)\nRequirement already satisfied: scikit-learn<2 in /databricks/python3/lib/python3.10/site-packages (from mlflow->-r requirements.txt (line 8)) (1.1.1)\nRequirement already satisfied: pytz<2025 in /databricks/python3/lib/python3.10/site-packages (from mlflow->-r requirements.txt (line 8)) (2022.7)\nRequirement already satisfied: Jinja2<4,>=2.11 in /databricks/python3/lib/python3.10/site-packages (from mlflow->-r requirements.txt (line 8)) (3.1.2)\nRequirement already satisfied: opentelemetry-sdk<3,>=1.0.0 in /local_disk0/.ephemeral_nfs/envs/pythonEnv-6ece25cf-a2bf-4052-9524-0a249d772210/lib/python3.10/site-packages (from mlflow->-r requirements.txt (line 8)) (1.25.0)\nRequirement already satisfied: Flask<4 in /local_disk0/.ephemeral_nfs/envs/pythonEnv-6ece25cf-a2bf-4052-9524-0a249d772210/lib/python3.10/site-packages (from mlflow->-r requirements.txt (line 8)) (3.0.3)\nRequirement already satisfied: sqlparse<1,>=0.4.0 in /local_disk0/.ephemeral_nfs/envs/pythonEnv-6ece25cf-a2bf-4052-9524-0a249d772210/lib/python3.10/site-packages (from mlflow->-r requirements.txt (line 8)) (0.5.0)\nRequirement already satisfied: querystring-parser<2 in /local_disk0/.ephemeral_nfs/envs/pythonEnv-6ece25cf-a2bf-4052-9524-0a249d772210/lib/python3.10/site-packages (from mlflow->-r requirements.txt (line 8)) (1.2.4)\nRequirement already satisfied: pyarrow<16,>=4.0.0 in /databricks/python3/lib/python3.10/site-packages (from mlflow->-r requirements.txt (line 8)) (8.0.0)\nRequirement already satisfied: gitpython<4,>=3.1.9 in /local_disk0/.ephemeral_nfs/envs/pythonEnv-6ece25cf-a2bf-4052-9524-0a249d772210/lib/python3.10/site-packages (from mlflow->-r requirements.txt (line 8)) (3.1.43)\nRequirement already satisfied: click<9,>=7.0 in /local_disk0/.ephemeral_nfs/envs/pythonEnv-6ece25cf-a2bf-4052-9524-0a249d772210/lib/python3.10/site-packages (from mlflow->-r requirements.txt (line 8)) (8.1.7)\nRequirement already satisfied: docker<8,>=4.0.0 in /local_disk0/.ephemeral_nfs/envs/pythonEnv-6ece25cf-a2bf-4052-9524-0a249d772210/lib/python3.10/site-packages (from mlflow->-r requirements.txt (line 8)) (7.1.0)\nRequirement already satisfied: graphene<4 in /local_disk0/.ephemeral_nfs/envs/pythonEnv-6ece25cf-a2bf-4052-9524-0a249d772210/lib/python3.10/site-packages (from mlflow->-r requirements.txt (line 8)) (3.3)\nRequirement already satisfied: importlib-metadata!=4.7.0,<8,>=3.7.0 in /local_disk0/.ephemeral_nfs/envs/pythonEnv-6ece25cf-a2bf-4052-9524-0a249d772210/lib/python3.10/site-packages (from mlflow->-r requirements.txt (line 8)) (7.1.0)\nRequirement already satisfied: opentelemetry-api<3,>=1.0.0 in /local_disk0/.ephemeral_nfs/envs/pythonEnv-6ece25cf-a2bf-4052-9524-0a249d772210/lib/python3.10/site-packages (from mlflow->-r requirements.txt (line 8)) (1.25.0)\nRequirement already satisfied: markdown<4,>=3.3 in /local_disk0/.ephemeral_nfs/envs/pythonEnv-6ece25cf-a2bf-4052-9524-0a249d772210/lib/python3.10/site-packages (from mlflow->-r requirements.txt (line 8)) (3.6)\nRequirement already satisfied: gunicorn<23 in /local_disk0/.ephemeral_nfs/envs/pythonEnv-6ece25cf-a2bf-4052-9524-0a249d772210/lib/python3.10/site-packages (from mlflow->-r requirements.txt (line 8)) (22.0.0)\nRequirement already satisfied: cloudpickle<4 in /local_disk0/.ephemeral_nfs/envs/pythonEnv-6ece25cf-a2bf-4052-9524-0a249d772210/lib/python3.10/site-packages (from mlflow->-r requirements.txt (line 8)) (3.0.0)\nRequirement already satisfied: scipy<2 in /databricks/python3/lib/python3.10/site-packages (from mlflow->-r requirements.txt (line 8)) (1.10.0)\nRequirement already satisfied: protobuf<5,>=3.12.0 in /databricks/python3/lib/python3.10/site-packages (from mlflow->-r requirements.txt (line 8)) (4.25.3)\nRequirement already satisfied: python-dateutil>=2.8.1 in /databricks/python3/lib/python3.10/site-packages (from pandas->-r requirements.txt (line 9)) (2.8.2)\nRequirement already satisfied: yarl<2.0,>=1.0 in /local_disk0/.ephemeral_nfs/envs/pythonEnv-6ece25cf-a2bf-4052-9524-0a249d772210/lib/python3.10/site-packages (from aiohttp<4.0.0,>=3.8.3->langchain==0.2.2->-r requirements.txt (line 1)) (1.9.4)\nRequirement already satisfied: aiosignal>=1.1.2 in /local_disk0/.ephemeral_nfs/envs/pythonEnv-6ece25cf-a2bf-4052-9524-0a249d772210/lib/python3.10/site-packages (from aiohttp<4.0.0,>=3.8.3->langchain==0.2.2->-r requirements.txt (line 1)) (1.3.1)\nRequirement already satisfied: multidict<7.0,>=4.5 in /local_disk0/.ephemeral_nfs/envs/pythonEnv-6ece25cf-a2bf-4052-9524-0a249d772210/lib/python3.10/site-packages (from aiohttp<4.0.0,>=3.8.3->langchain==0.2.2->-r requirements.txt (line 1)) (6.0.5)\nRequirement already satisfied: attrs>=17.3.0 in /databricks/python3/lib/python3.10/site-packages (from aiohttp<4.0.0,>=3.8.3->langchain==0.2.2->-r requirements.txt (line 1)) (22.1.0)\nRequirement already satisfied: frozenlist>=1.1.1 in /local_disk0/.ephemeral_nfs/envs/pythonEnv-6ece25cf-a2bf-4052-9524-0a249d772210/lib/python3.10/site-packages (from aiohttp<4.0.0,>=3.8.3->langchain==0.2.2->-r requirements.txt (line 1)) (1.4.1)\nRequirement already satisfied: Mako in /local_disk0/.ephemeral_nfs/envs/pythonEnv-6ece25cf-a2bf-4052-9524-0a249d772210/lib/python3.10/site-packages (from alembic!=1.10.0,<2->mlflow->-r requirements.txt (line 8)) (1.3.5)\nRequirement already satisfied: idna>=2.8 in /databricks/python3/lib/python3.10/site-packages (from anyio<5,>=3.5.0->openai->-r requirements.txt (line 7)) (3.4)\nRequirement already satisfied: typing-inspect<1,>=0.4.0 in /local_disk0/.ephemeral_nfs/envs/pythonEnv-6ece25cf-a2bf-4052-9524-0a249d772210/lib/python3.10/site-packages (from dataclasses-json<0.7,>=0.5.7->langchain-community==0.2.2->-r requirements.txt (line 3)) (0.9.0)\nRequirement already satisfied: marshmallow<4.0.0,>=3.18.0 in /local_disk0/.ephemeral_nfs/envs/pythonEnv-6ece25cf-a2bf-4052-9524-0a249d772210/lib/python3.10/site-packages (from dataclasses-json<0.7,>=0.5.7->langchain-community==0.2.2->-r requirements.txt (line 3)) (3.21.3)\nRequirement already satisfied: urllib3>=1.26.0 in /databricks/python3/lib/python3.10/site-packages (from docker<8,>=4.0.0->mlflow->-r requirements.txt (line 8)) (1.26.14)\nRequirement already satisfied: Werkzeug>=3.0.0 in /local_disk0/.ephemeral_nfs/envs/pythonEnv-6ece25cf-a2bf-4052-9524-0a249d772210/lib/python3.10/site-packages (from Flask<4->mlflow->-r requirements.txt (line 8)) (3.0.3)\nRequirement already satisfied: itsdangerous>=2.1.2 in /local_disk0/.ephemeral_nfs/envs/pythonEnv-6ece25cf-a2bf-4052-9524-0a249d772210/lib/python3.10/site-packages (from Flask<4->mlflow->-r requirements.txt (line 8)) (2.2.0)\nRequirement already satisfied: blinker>=1.6.2 in /local_disk0/.ephemeral_nfs/envs/pythonEnv-6ece25cf-a2bf-4052-9524-0a249d772210/lib/python3.10/site-packages (from Flask<4->mlflow->-r requirements.txt (line 8)) (1.8.2)\nRequirement already satisfied: gitdb<5,>=4.0.1 in /local_disk0/.ephemeral_nfs/envs/pythonEnv-6ece25cf-a2bf-4052-9524-0a249d772210/lib/python3.10/site-packages (from gitpython<4,>=3.1.9->mlflow->-r requirements.txt (line 8)) (4.0.11)\nRequirement already satisfied: graphql-core<3.3,>=3.1 in /local_disk0/.ephemeral_nfs/envs/pythonEnv-6ece25cf-a2bf-4052-9524-0a249d772210/lib/python3.10/site-packages (from graphene<4->mlflow->-r requirements.txt (line 8)) (3.2.3)\nRequirement already satisfied: graphql-relay<3.3,>=3.1 in /local_disk0/.ephemeral_nfs/envs/pythonEnv-6ece25cf-a2bf-4052-9524-0a249d772210/lib/python3.10/site-packages (from graphene<4->mlflow->-r requirements.txt (line 8)) (3.2.0)\nRequirement already satisfied: aniso8601<10,>=8 in /local_disk0/.ephemeral_nfs/envs/pythonEnv-6ece25cf-a2bf-4052-9524-0a249d772210/lib/python3.10/site-packages (from graphene<4->mlflow->-r requirements.txt (line 8)) (9.0.1)\nRequirement already satisfied: httpcore==1.* in /local_disk0/.ephemeral_nfs/envs/pythonEnv-6ece25cf-a2bf-4052-9524-0a249d772210/lib/python3.10/site-packages (from httpx<1,>=0.23.0->openai->-r requirements.txt (line 7)) (1.0.5)\nRequirement already satisfied: certifi in /databricks/python3/lib/python3.10/site-packages (from httpx<1,>=0.23.0->openai->-r requirements.txt (line 7)) (2022.12.7)\nRequirement already satisfied: h11<0.15,>=0.13 in /local_disk0/.ephemeral_nfs/envs/pythonEnv-6ece25cf-a2bf-4052-9524-0a249d772210/lib/python3.10/site-packages (from httpcore==1.*->httpx<1,>=0.23.0->openai->-r requirements.txt (line 7)) (0.14.0)\nRequirement already satisfied: zipp>=0.5 in /usr/lib/python3/dist-packages (from importlib-metadata!=4.7.0,<8,>=3.7.0->mlflow->-r requirements.txt (line 8)) (1.0.0)\nRequirement already satisfied: MarkupSafe>=2.0 in /databricks/python3/lib/python3.10/site-packages (from Jinja2<4,>=2.11->mlflow->-r requirements.txt (line 8)) (2.1.1)\nRequirement already satisfied: jsonpointer>=1.9 in /local_disk0/.ephemeral_nfs/envs/pythonEnv-6ece25cf-a2bf-4052-9524-0a249d772210/lib/python3.10/site-packages (from jsonpatch<2.0,>=1.33->langchain-core==0.2.4->-r requirements.txt (line 2)) (3.0.0)\nRequirement already satisfied: orjson<4.0.0,>=3.9.14 in /local_disk0/.ephemeral_nfs/envs/pythonEnv-6ece25cf-a2bf-4052-9524-0a249d772210/lib/python3.10/site-packages (from langsmith<0.2.0,>=0.1.17->langchain==0.2.2->-r requirements.txt (line 1)) (3.10.4)\nRequirement already satisfied: fonttools>=4.22.0 in /databricks/python3/lib/python3.10/site-packages (from matplotlib<4->mlflow->-r requirements.txt (line 8)) (4.25.0)\nRequirement already satisfied: kiwisolver>=1.0.1 in /databricks/python3/lib/python3.10/site-packages (from matplotlib<4->mlflow->-r requirements.txt (line 8)) (1.4.4)\nRequirement already satisfied: pillow>=6.2.0 in /databricks/python3/lib/python3.10/site-packages (from matplotlib<4->mlflow->-r requirements.txt (line 8)) (9.4.0)\nRequirement already satisfied: cycler>=0.10 in /databricks/python3/lib/python3.10/site-packages (from matplotlib<4->mlflow->-r requirements.txt (line 8)) (0.11.0)\nRequirement already satisfied: contourpy>=1.0.1 in /databricks/python3/lib/python3.10/site-packages (from matplotlib<4->mlflow->-r requirements.txt (line 8)) (1.0.5)\nRequirement already satisfied: pyparsing>=2.3.1 in /databricks/python3/lib/python3.10/site-packages (from matplotlib<4->mlflow->-r requirements.txt (line 8)) (3.0.9)\nRequirement already satisfied: deprecated>=1.2.6 in /local_disk0/.ephemeral_nfs/envs/pythonEnv-6ece25cf-a2bf-4052-9524-0a249d772210/lib/python3.10/site-packages (from opentelemetry-api<3,>=1.0.0->mlflow->-r requirements.txt (line 8)) (1.2.14)\nRequirement already satisfied: opentelemetry-semantic-conventions==0.46b0 in /local_disk0/.ephemeral_nfs/envs/pythonEnv-6ece25cf-a2bf-4052-9524-0a249d772210/lib/python3.10/site-packages (from opentelemetry-sdk<3,>=1.0.0->mlflow->-r requirements.txt (line 8)) (0.46b0)\nRequirement already satisfied: six>=1.5 in /usr/lib/python3/dist-packages (from python-dateutil>=2.8.1->pandas->-r requirements.txt (line 9)) (1.16.0)\nRequirement already satisfied: charset-normalizer<3,>=2 in /databricks/python3/lib/python3.10/site-packages (from requests<3,>=2->langchain==0.2.2->-r requirements.txt (line 1)) (2.0.4)\nRequirement already satisfied: threadpoolctl>=2.0.0 in /databricks/python3/lib/python3.10/site-packages (from scikit-learn<2->mlflow->-r requirements.txt (line 8)) (2.2.0)\nRequirement already satisfied: joblib>=1.0.0 in /databricks/python3/lib/python3.10/site-packages (from scikit-learn<2->mlflow->-r requirements.txt (line 8)) (1.2.0)\nRequirement already satisfied: greenlet!=0.4.17 in /local_disk0/.ephemeral_nfs/envs/pythonEnv-6ece25cf-a2bf-4052-9524-0a249d772210/lib/python3.10/site-packages (from SQLAlchemy<3,>=1.4->langchain==0.2.2->-r requirements.txt (line 1)) (3.0.3)\nRequirement already satisfied: regex>=2022.1.18 in /local_disk0/.ephemeral_nfs/envs/pythonEnv-6ece25cf-a2bf-4052-9524-0a249d772210/lib/python3.10/site-packages (from tiktoken<1,>=0.7->langchain-openai==0.1.7->-r requirements.txt (line 6)) (2024.5.15)\nRequirement already satisfied: wrapt<2,>=1.10 in /local_disk0/.ephemeral_nfs/envs/pythonEnv-6ece25cf-a2bf-4052-9524-0a249d772210/lib/python3.10/site-packages (from deprecated>=1.2.6->opentelemetry-api<3,>=1.0.0->mlflow->-r requirements.txt (line 8)) (1.16.0)\nRequirement already satisfied: smmap<6,>=3.0.1 in /local_disk0/.ephemeral_nfs/envs/pythonEnv-6ece25cf-a2bf-4052-9524-0a249d772210/lib/python3.10/site-packages (from gitdb<5,>=4.0.1->gitpython<4,>=3.1.9->mlflow->-r requirements.txt (line 8)) (5.0.1)\nRequirement already satisfied: mypy-extensions>=0.3.0 in /databricks/python3/lib/python3.10/site-packages (from typing-inspect<1,>=0.4.0->dataclasses-json<0.7,>=0.5.7->langchain-community==0.2.2->-r requirements.txt (line 3)) (0.4.3)\nInstalling collected packages: langchain-experimental\nSuccessfully installed langchain-experimental-0.0.60\n\u001B[43mNote: you may need to restart the kernel using %restart_python or dbutils.library.restartPython() to use updated packages.\u001B[0m\n"
     ]
    }
   ],
   "source": [
    "!pip install -r requirements.txt"
   ]
  },
  {
   "cell_type": "code",
   "execution_count": 0,
   "metadata": {
    "application/vnd.databricks.v1+cell": {
     "cellMetadata": {
      "byteLimit": 2048000,
      "rowLimit": 10000
     },
     "inputWidgets": {},
     "nuid": "a104e466-be59-429b-b8a1-aee0c4f4ab08",
     "showTitle": false,
     "title": ""
    }
   },
   "outputs": [
    {
     "output_type": "stream",
     "name": "stdout",
     "output_type": "stream",
     "text": [
      "\u001B[43mNote: you may need to restart the kernel using %restart_python or dbutils.library.restartPython() to use updated packages.\u001B[0m\nCollecting tabulate\n  Downloading tabulate-0.9.0-py3-none-any.whl (35 kB)\nInstalling collected packages: tabulate\nSuccessfully installed tabulate-0.9.0\n\u001B[43mNote: you may need to restart the kernel using %restart_python or dbutils.library.restartPython() to use updated packages.\u001B[0m\n"
     ]
    }
   ],
   "source": [
    "%pip install tabulate"
   ]
  },
  {
   "cell_type": "code",
   "execution_count": 0,
   "metadata": {
    "application/vnd.databricks.v1+cell": {
     "cellMetadata": {
      "byteLimit": 2048000,
      "rowLimit": 10000
     },
     "inputWidgets": {},
     "nuid": "44787d67-803c-4d41-9775-d4a26f515cfe",
     "showTitle": false,
     "title": ""
    }
   },
   "outputs": [],
   "source": [
    "dbutils.library.restartPython()"
   ]
  },
  {
   "cell_type": "code",
   "execution_count": 0,
   "metadata": {
    "application/vnd.databricks.v1+cell": {
     "cellMetadata": {
      "byteLimit": 2048000,
      "rowLimit": 10000
     },
     "inputWidgets": {},
     "nuid": "f90da234-57f1-432d-ad3f-b4fabbf87dff",
     "showTitle": false,
     "title": ""
    }
   },
   "outputs": [],
   "source": [
    "from langchain.agents.agent_types import AgentType\n",
    "from langchain_experimental.agents.agent_toolkits import create_csv_agent\n",
    "from langchain_openai import ChatOpenAI, OpenAI"
   ]
  },
  {
   "cell_type": "code",
   "execution_count": 0,
   "metadata": {
    "application/vnd.databricks.v1+cell": {
     "cellMetadata": {
      "byteLimit": 2048000,
      "rowLimit": 10000
     },
     "inputWidgets": {},
     "nuid": "a129d501-d187-4248-a50f-18cb7fd1c819",
     "showTitle": false,
     "title": ""
    }
   },
   "outputs": [
    {
     "output_type": "stream",
     "name": "stderr",
     "output_type": "stream",
     "text": [
      "/local_disk0/.ephemeral_nfs/envs/pythonEnv-6ece25cf-a2bf-4052-9524-0a249d772210/lib/python3.10/site-packages/langchain_core/_api/deprecation.py:119: LangChainDeprecationWarning: The method `BaseLLM.__call__` was deprecated in langchain-core 0.1.7 and will be removed in 0.3.0. Use invoke instead.\n  warn_deprecated(\n"
     ]
    },
    {
     "output_type": "execute_result",
     "data": {
      "text/plain": [
       "'A mixture of experts (MoE) model is a machine learning approach that combines the outputs of multiple \"expert\" models, each specializing in a different part of the input space. A gating network determines how to weight the outputs of the experts for a given input. This allows the model to leverage the strengths of each expert and improve overall performance. MoE models are often used in natural language processing and other domains where the input data is complex and diverse.'"
      ]
     },
     "execution_count": 2,
     "metadata": {},
     "output_type": "execute_result"
    }
   ],
   "source": [
    "from langchain.llms import Databricks\n",
    "from langchain_core.messages import HumanMessage, SystemMessage\n",
    "\n",
    "def transform_input(**request):\n",
    "  request[\"messages\"] = [\n",
    "    {\n",
    "      \"role\": \"user\",\n",
    "      \"content\": request[\"prompt\"]\n",
    "    }\n",
    "  ]\n",
    "  del request[\"prompt\"]\n",
    "  return request\n",
    "\n",
    "llm = Databricks(endpoint_name=\"databricks-dbrx-instruct\", transform_input_fn=transform_input)\n",
    "llm(\"What is a mixture of experts model?\")"
   ]
  },
  {
   "cell_type": "code",
   "execution_count": 0,
   "metadata": {
    "application/vnd.databricks.v1+cell": {
     "cellMetadata": {
      "byteLimit": 2048000,
      "rowLimit": 10000
     },
     "inputWidgets": {},
     "nuid": "123faffc-b711-4e19-9db8-5567f4afdc8d",
     "showTitle": false,
     "title": ""
    }
   },
   "outputs": [],
   "source": [
    "agent = create_csv_agent(\n",
    "    llm,\n",
    "    \"/Volumes/workspace/default/databricks_hackathon/movies.csv\",\n",
    "    verbose=True,\n",
    "    agent_type=AgentType.ZERO_SHOT_REACT_DESCRIPTION,\n",
    ")"
   ]
  },
  {
   "cell_type": "code",
   "execution_count": 0,
   "metadata": {
    "application/vnd.databricks.v1+cell": {
     "cellMetadata": {
      "byteLimit": 2048000,
      "rowLimit": 10000
     },
     "inputWidgets": {},
     "nuid": "05d156c5-a7c2-4123-85c4-20cd8f6263fc",
     "showTitle": false,
     "title": ""
    }
   },
   "outputs": [
    {
     "output_type": "stream",
     "name": "stderr",
     "output_type": "stream",
     "text": [
      "/local_disk0/.ephemeral_nfs/envs/pythonEnv-6ece25cf-a2bf-4052-9524-0a249d772210/lib/python3.10/site-packages/langchain_core/_api/deprecation.py:119: LangChainDeprecationWarning: The method `Chain.run` was deprecated in langchain 0.1.0 and will be removed in 0.3.0. Use invoke instead.\n  warn_deprecated(\n"
     ]
    },
    {
     "output_type": "stream",
     "name": "stdout",
     "output_type": "stream",
     "text": [
      "\n\n\u001B[1m> Entering new AgentExecutor chain...\u001B[0m\n\u001B[32;1m\u001B[1;3mThought: To answer this question, I need to know the number of rows in the dataframe. I can use the `python_repl_ast` tool to execute the `len(df.index)` command, which will give me the number of rows.\n\nAction: python_repl_ast\nAction Input: len(df.index)\u001B[0m\u001B[36;1m\u001B[1;3m36273\u001B[0m\u001B[32;1m\u001B[1;3mI now know the final answer\nFinal Answer: There are 36273 rows in the dataframe.\u001B[0m\n\n\u001B[1m> Finished chain.\u001B[0m\n"
     ]
    },
    {
     "output_type": "execute_result",
     "data": {
      "text/plain": [
       "'There are 36273 rows in the dataframe.'"
      ]
     },
     "execution_count": 4,
     "metadata": {},
     "output_type": "execute_result"
    }
   ],
   "source": [
    "agent.run(\"how many rows are there?\")"
   ]
  }
 ],
 "metadata": {
  "application/vnd.databricks.v1+notebook": {
   "dashboards": [],
   "environmentMetadata": null,
   "language": "python",
   "notebookMetadata": {
    "pythonIndentUnit": 4
   },
   "notebookName": "csv_agent_query",
   "widgets": {}
  }
 },
 "nbformat": 4,
 "nbformat_minor": 0
}
